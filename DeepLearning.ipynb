{
 "cells": [
  {
   "cell_type": "raw",
   "metadata": {},
   "source": [
    "Artificial Neural Network with 02 hidden layers to predict the readmission status. (Deep Learning)"
   ]
  },
  {
   "cell_type": "code",
   "execution_count": 1,
   "metadata": {
    "collapsed": true
   },
   "outputs": [],
   "source": [
    "# Major Libraries\n",
    "import pandas as pd\n",
    "import matplotlib.pyplot as plt\n",
    "from IPython.display import clear_output\n",
    "from sklearn.preprocessing import LabelEncoder, OneHotEncoder\n",
    "from sklearn.preprocessing import LabelEncoder\n",
    "from sklearn.preprocessing import StandardScaler\n",
    "from sklearn.metrics import accuracy_score, f1_score, precision_score, recall_score, classification_report, confusion_matrix\n"
   ]
  },
  {
   "cell_type": "code",
   "execution_count": 2,
   "metadata": {},
   "outputs": [
    {
     "name": "stderr",
     "output_type": "stream",
     "text": [
      "C:\\Users\\CHANDIMA\\Anaconda3\\lib\\site-packages\\IPython\\core\\interactiveshell.py:2698: DtypeWarning: Columns (10) have mixed types. Specify dtype option on import or set low_memory=False.\n",
      "  interactivity=interactivity, compiler=compiler, result=result)\n"
     ]
    }
   ],
   "source": [
    "dataset = pd.read_csv(\"diabetic_data.csv\", na_values=\"?\")"
   ]
  },
  {
   "cell_type": "code",
   "execution_count": 3,
   "metadata": {},
   "outputs": [
    {
     "name": "stdout",
     "output_type": "stream",
     "text": [
      "<class 'pandas.core.frame.DataFrame'>\n"
     ]
    }
   ],
   "source": [
    "print(type(dataset))"
   ]
  },
  {
   "cell_type": "code",
   "execution_count": 4,
   "metadata": {},
   "outputs": [
    {
     "name": "stdout",
     "output_type": "stream",
     "text": [
      "(101766, 50)\n"
     ]
    }
   ],
   "source": [
    "print(dataset.shape)"
   ]
  },
  {
   "cell_type": "markdown",
   "metadata": {},
   "source": [
    "Categorical data should be encoded.\n"
   ]
  },
  {
   "cell_type": "code",
   "execution_count": 5,
   "metadata": {
    "collapsed": true
   },
   "outputs": [],
   "source": [
    "#Remove useless features\n",
    "dataset.drop(['encounter_id', 'patient_nbr',  'weight', 'payer_code',  'medical_specialty', \n",
    "        'number_inpatient', 'number_outpatient', 'number_emergency',  'max_glu_serum', 'A1Cresult', 'metformin', 'repaglinide', 'nateglinide', 'chlorpropamide', 'glimepiride', 'acetohexamide', 'glipizide', 'glyburide', 'tolbutamide', 'pioglitazone', 'rosiglitazone', 'acarbose', 'miglitol', 'troglitazone', 'tolazamide', 'examide', 'citoglipton', 'glyburide_metformin', 'glipizide_metformin', 'glimepiride_pioglitazone', 'metformin_rosiglitazone', 'metformin_pioglitazone' ], axis=1, inplace=True)"
   ]
  },
  {
   "cell_type": "code",
   "execution_count": 6,
   "metadata": {},
   "outputs": [
    {
     "name": "stdout",
     "output_type": "stream",
     "text": [
      "Index(['race', 'gender', 'age', 'admission_type_id',\n",
      "       'discharge_disposition_id', 'admission_source_id', 'time_in_hospital',\n",
      "       'num_lab_procedures', 'num_procedures', 'num_medications', 'diag_1',\n",
      "       'diag_2', 'diag_3', 'number_diagnoses', 'insulin', 'change',\n",
      "       'diabetesMed', 'readmitted'],\n",
      "      dtype='object')\n"
     ]
    }
   ],
   "source": [
    "print(dataset.columns)"
   ]
  },
  {
   "cell_type": "markdown",
   "metadata": {},
   "source": [
    "These 22 features are considered in the final analysis."
   ]
  },
  {
   "cell_type": "code",
   "execution_count": 7,
   "metadata": {},
   "outputs": [
    {
     "data": {
      "text/plain": [
       "(101766, 18)"
      ]
     },
     "execution_count": 7,
     "metadata": {},
     "output_type": "execute_result"
    }
   ],
   "source": [
    "dataset.shape"
   ]
  },
  {
   "cell_type": "code",
   "execution_count": 8,
   "metadata": {},
   "outputs": [
    {
     "name": "stdout",
     "output_type": "stream",
     "text": [
      "race                        2273\n",
      "gender                         0\n",
      "age                            0\n",
      "admission_type_id              0\n",
      "discharge_disposition_id       0\n",
      "admission_source_id            0\n",
      "time_in_hospital               0\n",
      "num_lab_procedures             0\n",
      "num_procedures                 0\n",
      "num_medications                0\n",
      "diag_1                        21\n",
      "diag_2                       358\n",
      "diag_3                      1423\n",
      "number_diagnoses               0\n",
      "insulin                        0\n",
      "change                         0\n",
      "diabetesMed                    0\n",
      "readmitted                     0\n",
      "dtype: int64\n"
     ]
    }
   ],
   "source": [
    "print(dataset.isnull().sum())"
   ]
  },
  {
   "cell_type": "code",
   "execution_count": 9,
   "metadata": {
    "collapsed": true
   },
   "outputs": [],
   "source": [
    "# In the feature \"gender\", there are 03 invalid data which should be removed.\n",
    "dataset = dataset[dataset.gender != 'Unknown/Invalid']"
   ]
  },
  {
   "cell_type": "code",
   "execution_count": 10,
   "metadata": {
    "collapsed": true
   },
   "outputs": [],
   "source": [
    "finalDataset = dataset.dropna()"
   ]
  },
  {
   "cell_type": "code",
   "execution_count": 11,
   "metadata": {},
   "outputs": [
    {
     "data": {
      "text/plain": [
       "(98052, 18)"
      ]
     },
     "execution_count": 11,
     "metadata": {},
     "output_type": "execute_result"
    }
   ],
   "source": [
    "finalDataset.shape"
   ]
  },
  {
   "cell_type": "code",
   "execution_count": 12,
   "metadata": {
    "collapsed": true
   },
   "outputs": [],
   "source": [
    "# ICD9 Codes for diag_1, diag_2 and diag_3\n",
    "def ICD9_classifier(diagnoses):\n",
    "    # Returns a series of strings corresponding to type of ICD9 diagnosis\n",
    "    # diagnoses is a list\n",
    "    gr_diagnoses = diagnoses.copy()\n",
    "    icd9_dct = {\n",
    "                'Infectious':(1, 139),\n",
    "                'Neoplasmic':(140,239),\n",
    "                'Hormonal':(240, 279),\n",
    "                'Blood':(280,289),\n",
    "                'Mental':(290,319),\n",
    "                'Nervous':(320,359),\n",
    "                'Sensory':(360,389),\n",
    "                'Circulatory':(390,459),\n",
    "                'Respiratory':(460,519),\n",
    "                'Digestive':(520,579),\n",
    "                'Genitourinary':(580,629),\n",
    "                'Childbirth':(630,679),\n",
    "                'Dermatological':(680,709),\n",
    "                'Musculoskeletal':(710,739),\n",
    "                'Congenital':(740,759),\n",
    "                'Perinatal':(760,779),\n",
    "                'Miscellaneous':(780,799),\n",
    "                'Injury':(800,999)\n",
    "               }\n",
    "    for i, diagnosis in enumerate(diagnoses):\n",
    "        if (str(diagnoses[i])[0] == 'E') or (str(diagnoses[i])[0] == 'V'):\n",
    "            gr_diagnoses[i] = 'Accidental'\n",
    "        elif (str(diagnoses[i]).lower() == 'nan'):\n",
    "            gr_diagnoses[i] = 'NaN'\n",
    "        else:\n",
    "            for key, icd_range in icd9_dct.items():\n",
    "                if (int(float(diagnoses[i])) >= icd_range[0]) and (int(float(diagnoses[i])) <= icd_range[1]):\n",
    "                    gr_diagnoses[i] = key\n",
    "    return gr_diagnoses"
   ]
  },
  {
   "cell_type": "code",
   "execution_count": 13,
   "metadata": {},
   "outputs": [
    {
     "name": "stderr",
     "output_type": "stream",
     "text": [
      "C:\\Users\\CHANDIMA\\Anaconda3\\lib\\site-packages\\pandas\\core\\generic.py:3110: SettingWithCopyWarning: \n",
      "A value is trying to be set on a copy of a slice from a DataFrame.\n",
      "Try using .loc[row_indexer,col_indexer] = value instead\n",
      "\n",
      "See the caveats in the documentation: http://pandas.pydata.org/pandas-docs/stable/indexing.html#indexing-view-versus-copy\n",
      "  self[name] = value\n"
     ]
    }
   ],
   "source": [
    "d1 = ICD9_classifier(finalDataset.diag_1.values)\n",
    "d2 = ICD9_classifier(finalDataset.diag_2.values)\n",
    "d3 = ICD9_classifier(finalDataset.diag_3.values)\n",
    "\n",
    "\n",
    "finalDataset.diag_1 = d1\n",
    "finalDataset.diag_2 = d2\n",
    "finalDataset.diag_3 = d3"
   ]
  },
  {
   "cell_type": "code",
   "execution_count": 14,
   "metadata": {},
   "outputs": [
    {
     "name": "stderr",
     "output_type": "stream",
     "text": [
      "C:\\Users\\CHANDIMA\\Anaconda3\\lib\\site-packages\\pandas\\core\\generic.py:3110: SettingWithCopyWarning: \n",
      "A value is trying to be set on a copy of a slice from a DataFrame.\n",
      "Try using .loc[row_indexer,col_indexer] = value instead\n",
      "\n",
      "See the caveats in the documentation: http://pandas.pydata.org/pandas-docs/stable/indexing.html#indexing-view-versus-copy\n",
      "  self[name] = value\n",
      "C:\\Users\\CHANDIMA\\Anaconda3\\lib\\site-packages\\ipykernel_launcher.py:6: SettingWithCopyWarning: \n",
      "A value is trying to be set on a copy of a slice from a DataFrame.\n",
      "Try using .loc[row_indexer,col_indexer] = value instead\n",
      "\n",
      "See the caveats in the documentation: http://pandas.pydata.org/pandas-docs/stable/indexing.html#indexing-view-versus-copy\n",
      "  \n",
      "C:\\Users\\CHANDIMA\\Anaconda3\\lib\\site-packages\\ipykernel_launcher.py:7: SettingWithCopyWarning: \n",
      "A value is trying to be set on a copy of a slice from a DataFrame.\n",
      "Try using .loc[row_indexer,col_indexer] = value instead\n",
      "\n",
      "See the caveats in the documentation: http://pandas.pydata.org/pandas-docs/stable/indexing.html#indexing-view-versus-copy\n",
      "  import sys\n",
      "C:\\Users\\CHANDIMA\\Anaconda3\\lib\\site-packages\\ipykernel_launcher.py:8: SettingWithCopyWarning: \n",
      "A value is trying to be set on a copy of a slice from a DataFrame.\n",
      "Try using .loc[row_indexer,col_indexer] = value instead\n",
      "\n",
      "See the caveats in the documentation: http://pandas.pydata.org/pandas-docs/stable/indexing.html#indexing-view-versus-copy\n",
      "  \n",
      "C:\\Users\\CHANDIMA\\Anaconda3\\lib\\site-packages\\ipykernel_launcher.py:9: SettingWithCopyWarning: \n",
      "A value is trying to be set on a copy of a slice from a DataFrame.\n",
      "Try using .loc[row_indexer,col_indexer] = value instead\n",
      "\n",
      "See the caveats in the documentation: http://pandas.pydata.org/pandas-docs/stable/indexing.html#indexing-view-versus-copy\n",
      "  if __name__ == '__main__':\n",
      "C:\\Users\\CHANDIMA\\Anaconda3\\lib\\site-packages\\ipykernel_launcher.py:10: SettingWithCopyWarning: \n",
      "A value is trying to be set on a copy of a slice from a DataFrame.\n",
      "Try using .loc[row_indexer,col_indexer] = value instead\n",
      "\n",
      "See the caveats in the documentation: http://pandas.pydata.org/pandas-docs/stable/indexing.html#indexing-view-versus-copy\n",
      "  # Remove the CWD from sys.path while we load stuff.\n",
      "C:\\Users\\CHANDIMA\\Anaconda3\\lib\\site-packages\\ipykernel_launcher.py:11: SettingWithCopyWarning: \n",
      "A value is trying to be set on a copy of a slice from a DataFrame.\n",
      "Try using .loc[row_indexer,col_indexer] = value instead\n",
      "\n",
      "See the caveats in the documentation: http://pandas.pydata.org/pandas-docs/stable/indexing.html#indexing-view-versus-copy\n",
      "  # This is added back by InteractiveShellApp.init_path()\n",
      "C:\\Users\\CHANDIMA\\Anaconda3\\lib\\site-packages\\ipykernel_launcher.py:12: SettingWithCopyWarning: \n",
      "A value is trying to be set on a copy of a slice from a DataFrame.\n",
      "Try using .loc[row_indexer,col_indexer] = value instead\n",
      "\n",
      "See the caveats in the documentation: http://pandas.pydata.org/pandas-docs/stable/indexing.html#indexing-view-versus-copy\n",
      "  if sys.path[0] == '':\n",
      "C:\\Users\\CHANDIMA\\Anaconda3\\lib\\site-packages\\ipykernel_launcher.py:13: SettingWithCopyWarning: \n",
      "A value is trying to be set on a copy of a slice from a DataFrame.\n",
      "Try using .loc[row_indexer,col_indexer] = value instead\n",
      "\n",
      "See the caveats in the documentation: http://pandas.pydata.org/pandas-docs/stable/indexing.html#indexing-view-versus-copy\n",
      "  del sys.path[0]\n"
     ]
    }
   ],
   "source": [
    "# Label-encode age feature to an integer in the center of the raw bin\n",
    "finalDataset.age = (LabelEncoder().fit_transform(finalDataset.age)*10) + 5\n",
    "\n",
    "#  Encoding - Categorical Data\n",
    "lb = LabelEncoder()\n",
    "finalDataset['race'] = lb.fit_transform(finalDataset['race']) \n",
    "finalDataset['gender'] = lb.fit_transform(finalDataset['gender'])\n",
    "finalDataset['diag_1'] = lb.fit_transform(finalDataset['diag_1']) \n",
    "finalDataset['diag_2'] = lb.fit_transform(finalDataset['diag_2'])\n",
    "finalDataset['diag_3'] = lb.fit_transform(finalDataset['diag_3'])\n",
    "finalDataset['insulin'] = lb.fit_transform(finalDataset['insulin']) \n",
    "finalDataset['change'] = lb.fit_transform(finalDataset['change'])\n",
    "finalDataset['diabetesMed'] = lb.fit_transform(finalDataset['diabetesMed'])\n",
    "\n",
    "le_readm = LabelEncoder()\n",
    "finalDataset.readmitted = pd.Series(le_readm.fit_transform(finalDataset.readmitted),\n",
    "                                                      index=finalDataset.index)\n",
    "\n"
   ]
  },
  {
   "cell_type": "code",
   "execution_count": 15,
   "metadata": {
    "collapsed": true
   },
   "outputs": [],
   "source": [
    "num_features = finalDataset.columns\n",
    "\n",
    "# Remove outliers by class\n",
    "for response in finalDataset.readmitted.unique(): # For each readmission response\n",
    "    response_df = finalDataset[finalDataset.readmitted==response] # For all samples that meet the readmission criteria\n",
    "    for column in response_df[num_features].columns: # Iterate through each feature of the sample\n",
    "        Q1 = response_df[column].quantile(0.25)\n",
    "        Q3 = response_df[column].quantile(0.75)\n",
    "        IQR = Q3-Q1\n",
    "        if IQR > 0: # And remove features that are outside of Q1 - 1.5IQR or Q3 + 1.5IQR\n",
    "            response_df = response_df[(response_df[column] > Q1-(1.5*IQR)) & (response_df[column] < Q3+(1.5*IQR))]\n",
    "            finalDataset = finalDataset.drop(finalDataset[finalDataset.readmitted==response].index, axis=0)\n",
    "            finalDataset = finalDataset.append(response_df)"
   ]
  },
  {
   "cell_type": "code",
   "execution_count": 16,
   "metadata": {
    "collapsed": true
   },
   "outputs": [],
   "source": [
    "onehotencoder = OneHotEncoder(categorical_features = [17])\n",
    "finalDataset = onehotencoder.fit_transform(finalDataset).toarray()"
   ]
  },
  {
   "cell_type": "code",
   "execution_count": 17,
   "metadata": {
    "collapsed": true,
    "scrolled": true
   },
   "outputs": [],
   "source": [
    "X = finalDataset[:, 0:17]\n",
    "y = finalDataset[:, 17:]"
   ]
  },
  {
   "cell_type": "code",
   "execution_count": 18,
   "metadata": {},
   "outputs": [
    {
     "data": {
      "text/plain": [
       "array([[  0.,   1.,   0., ...,  16.,   8.,   8.],\n",
       "       [  0.,   1.,   0., ...,   3.,  10.,   9.],\n",
       "       [  0.,   1.,   0., ...,   7.,   8.,   3.],\n",
       "       ..., \n",
       "       [  1.,   0.,   0., ...,   3.,   8.,   9.],\n",
       "       [  1.,   0.,   0., ...,   8.,   3.,   9.],\n",
       "       [  1.,   0.,   0., ...,   6.,   8.,   9.]])"
      ]
     },
     "execution_count": 18,
     "metadata": {},
     "output_type": "execute_result"
    }
   ],
   "source": [
    "X"
   ]
  },
  {
   "cell_type": "code",
   "execution_count": 19,
   "metadata": {},
   "outputs": [
    {
     "data": {
      "text/plain": [
       "array([[ 1.,  1.,  1.],\n",
       "       [ 2.,  1.,  1.],\n",
       "       [ 2.,  1.,  1.],\n",
       "       ..., \n",
       "       [ 2.,  0.,  1.],\n",
       "       [ 0.,  0.,  1.],\n",
       "       [ 0.,  0.,  1.]])"
      ]
     },
     "execution_count": 19,
     "metadata": {},
     "output_type": "execute_result"
    }
   ],
   "source": [
    "y"
   ]
  },
  {
   "cell_type": "code",
   "execution_count": 20,
   "metadata": {
    "collapsed": true
   },
   "outputs": [],
   "source": [
    "# Splitting the dataset into the Training set and Test set\n",
    "from sklearn.model_selection import train_test_split\n",
    "X_train, X_test, y_train, y_test = train_test_split(X, y, test_size = 0.25, random_state = 0)"
   ]
  },
  {
   "cell_type": "code",
   "execution_count": 21,
   "metadata": {
    "collapsed": true
   },
   "outputs": [],
   "source": [
    "# Feature Scaling\n",
    "from sklearn.preprocessing import StandardScaler\n",
    "sc = StandardScaler()\n",
    "X_train = sc.fit_transform(X_train)\n",
    "X_test = sc.transform(X_test)"
   ]
  },
  {
   "cell_type": "code",
   "execution_count": 22,
   "metadata": {},
   "outputs": [
    {
     "name": "stderr",
     "output_type": "stream",
     "text": [
      "Using TensorFlow backend.\n"
     ]
    }
   ],
   "source": [
    "# Making Models\n",
    "# Making The ANN\n",
    "\n",
    "#  Importing the keras libraries & packages\n",
    "import keras\n",
    "from keras.models import Sequential\n",
    "from keras.layers import Dense"
   ]
  },
  {
   "cell_type": "code",
   "execution_count": 23,
   "metadata": {
    "collapsed": true
   },
   "outputs": [],
   "source": [
    "#  Initializing the ANN\n",
    "classifier = Sequential()"
   ]
  },
  {
   "cell_type": "code",
   "execution_count": 24,
   "metadata": {
    "collapsed": true
   },
   "outputs": [],
   "source": [
    "# Adding the input layer and the first hidden layer\n",
    "classifier.add(Dense(activation = \"relu\", input_dim = 17, units = 10, kernel_initializer = \"uniform\"))"
   ]
  },
  {
   "cell_type": "code",
   "execution_count": 25,
   "metadata": {
    "collapsed": true
   },
   "outputs": [],
   "source": [
    "#  Adding the second hidden layer\n",
    "classifier.add(Dense(activation = \"relu\", units = 10, kernel_initializer = \"uniform\"))"
   ]
  },
  {
   "cell_type": "code",
   "execution_count": 26,
   "metadata": {
    "collapsed": true
   },
   "outputs": [],
   "source": [
    "#  Adding the output layer\n",
    "classifier.add(Dense(activation = \"softmax\", units = 3, kernel_initializer = \"uniform\")) "
   ]
  },
  {
   "cell_type": "code",
   "execution_count": 27,
   "metadata": {
    "collapsed": true
   },
   "outputs": [],
   "source": [
    "# Compiling the ANN\n",
    "classifier.compile(optimizer = 'adam', loss = 'categorical_crossentropy', metrics = ['accuracy'])"
   ]
  },
  {
   "cell_type": "code",
   "execution_count": 28,
   "metadata": {},
   "outputs": [
    {
     "name": "stdout",
     "output_type": "stream",
     "text": [
      "Epoch 1/100\n",
      "44796/44796 [==============================] - 8s 190us/step - loss: 2.7551 - acc: 0.8855\n",
      "Epoch 2/100\n",
      "44796/44796 [==============================] - 6s 134us/step - loss: 2.7432 - acc: 0.8855\n",
      "Epoch 3/100\n",
      "44796/44796 [==============================] - 6s 134us/step - loss: 2.7418 - acc: 0.8855\n",
      "Epoch 4/100\n",
      "44796/44796 [==============================] - 6s 136us/step - loss: 2.7412 - acc: 0.8855\n",
      "Epoch 5/100\n",
      "44796/44796 [==============================] - 6s 137us/step - loss: 2.7409 - acc: 0.8855\n",
      "Epoch 6/100\n",
      "44796/44796 [==============================] - 6s 137us/step - loss: 2.7404 - acc: 0.8855\n",
      "Epoch 7/100\n",
      "44796/44796 [==============================] - 6s 136us/step - loss: 2.7401 - acc: 0.8855\n",
      "Epoch 8/100\n",
      "44796/44796 [==============================] - 6s 138us/step - loss: 2.7400 - acc: 0.8855\n",
      "Epoch 9/100\n",
      "44796/44796 [==============================] - 7s 152us/step - loss: 2.7397 - acc: 0.8855\n",
      "Epoch 10/100\n",
      "44796/44796 [==============================] - 193s 4ms/step - loss: 2.7397 - acc: 0.8855\n",
      "Epoch 11/100\n",
      "44796/44796 [==============================] - 8s 185us/step - loss: 2.7394 - acc: 0.8855\n",
      "Epoch 12/100\n",
      "44796/44796 [==============================] - 6s 142us/step - loss: 2.7393 - acc: 0.8855\n",
      "Epoch 13/100\n",
      "44796/44796 [==============================] - 6s 138us/step - loss: 2.7388 - acc: 0.8855\n",
      "Epoch 14/100\n",
      "44796/44796 [==============================] - 6s 139us/step - loss: 2.7389 - acc: 0.8855\n",
      "Epoch 15/100\n",
      "44796/44796 [==============================] - 6s 140us/step - loss: 2.7388 - acc: 0.8855\n",
      "Epoch 16/100\n",
      "44796/44796 [==============================] - 7s 148us/step - loss: 2.7387 - acc: 0.8855\n",
      "Epoch 17/100\n",
      "44796/44796 [==============================] - 6s 145us/step - loss: 2.7387 - acc: 0.8855\n",
      "Epoch 18/100\n",
      "44796/44796 [==============================] - 6s 141us/step - loss: 2.7386 - acc: 0.8855\n",
      "Epoch 19/100\n",
      "44796/44796 [==============================] - 6s 140us/step - loss: 2.7384 - acc: 0.8854\n",
      "Epoch 20/100\n",
      "44796/44796 [==============================] - 6s 138us/step - loss: 2.7383 - acc: 0.8855\n",
      "Epoch 21/100\n",
      "44796/44796 [==============================] - 6s 138us/step - loss: 2.7383 - acc: 0.8854\n",
      "Epoch 22/100\n",
      "44796/44796 [==============================] - 6s 142us/step - loss: 2.7383 - acc: 0.8854\n",
      "Epoch 23/100\n",
      "44796/44796 [==============================] - 6s 138us/step - loss: 2.7381 - acc: 0.8855\n",
      "Epoch 24/100\n",
      "44796/44796 [==============================] - 6s 139us/step - loss: 2.7379 - acc: 0.8854\n",
      "Epoch 25/100\n",
      "44796/44796 [==============================] - 6s 144us/step - loss: 2.7380 - acc: 0.8854\n",
      "Epoch 26/100\n",
      "44796/44796 [==============================] - 7s 146us/step - loss: 2.7378 - acc: 0.8854\n",
      "Epoch 27/100\n",
      "44796/44796 [==============================] - 6s 144us/step - loss: 2.7380 - acc: 0.8853\n",
      "Epoch 28/100\n",
      "44796/44796 [==============================] - 6s 141us/step - loss: 2.7377 - acc: 0.8855\n",
      "Epoch 29/100\n",
      "44796/44796 [==============================] - 6s 145us/step - loss: 2.7379 - acc: 0.8854\n",
      "Epoch 30/100\n",
      "44796/44796 [==============================] - 6s 142us/step - loss: 2.7377 - acc: 0.8854\n",
      "Epoch 31/100\n",
      "44796/44796 [==============================] - 7s 147us/step - loss: 2.7377 - acc: 0.8853\n",
      "Epoch 32/100\n",
      "44796/44796 [==============================] - 6s 140us/step - loss: 2.7375 - acc: 0.8855\n",
      "Epoch 33/100\n",
      "44796/44796 [==============================] - 6s 143us/step - loss: 2.7376 - acc: 0.8854\n",
      "Epoch 34/100\n",
      "44796/44796 [==============================] - 7s 156us/step - loss: 2.7376 - acc: 0.8854\n",
      "Epoch 35/100\n",
      "44796/44796 [==============================] - 6s 144us/step - loss: 2.7376 - acc: 0.8855\n",
      "Epoch 36/100\n",
      "44796/44796 [==============================] - 6s 142us/step - loss: 2.7375 - acc: 0.8854\n",
      "Epoch 37/100\n",
      "44796/44796 [==============================] - 7s 148us/step - loss: 2.7377 - acc: 0.8855\n",
      "Epoch 38/100\n",
      "44796/44796 [==============================] - 7s 152us/step - loss: 2.7374 - acc: 0.8854\n",
      "Epoch 39/100\n",
      "44796/44796 [==============================] - 7s 164us/step - loss: 2.7375 - acc: 0.8854\n",
      "Epoch 40/100\n",
      "44796/44796 [==============================] - 7s 156us/step - loss: 2.7375 - acc: 0.8854\n",
      "Epoch 41/100\n",
      "44796/44796 [==============================] - 7s 153us/step - loss: 2.7374 - acc: 0.8855\n",
      "Epoch 42/100\n",
      "44796/44796 [==============================] - 6s 138us/step - loss: 2.7374 - acc: 0.8854\n",
      "Epoch 43/100\n",
      "44796/44796 [==============================] - 6s 140us/step - loss: 2.7375 - acc: 0.8854\n",
      "Epoch 44/100\n",
      "44796/44796 [==============================] - 6s 143us/step - loss: 2.7374 - acc: 0.8854\n",
      "Epoch 45/100\n",
      "44796/44796 [==============================] - 6s 142us/step - loss: 2.7373 - acc: 0.8855\n",
      "Epoch 46/100\n",
      "44796/44796 [==============================] - 7s 150us/step - loss: 2.7374 - acc: 0.8854\n",
      "Epoch 47/100\n",
      "44796/44796 [==============================] - 6s 143us/step - loss: 2.7374 - acc: 0.8855\n",
      "Epoch 48/100\n",
      "44796/44796 [==============================] - 6s 144us/step - loss: 2.7372 - acc: 0.8854\n",
      "Epoch 49/100\n",
      "44796/44796 [==============================] - 6s 142us/step - loss: 2.7373 - acc: 0.8855\n",
      "Epoch 50/100\n",
      "44796/44796 [==============================] - 6s 144us/step - loss: 2.7373 - acc: 0.8855\n",
      "Epoch 51/100\n",
      "44796/44796 [==============================] - 6s 143us/step - loss: 2.7371 - acc: 0.8855\n",
      "Epoch 52/100\n",
      "44796/44796 [==============================] - 6s 143us/step - loss: 2.7372 - acc: 0.8855\n",
      "Epoch 53/100\n",
      "44796/44796 [==============================] - 7s 147us/step - loss: 2.7372 - acc: 0.8854\n",
      "Epoch 54/100\n",
      "44796/44796 [==============================] - 6s 145us/step - loss: 2.7372 - acc: 0.8854\n",
      "Epoch 55/100\n",
      "44796/44796 [==============================] - 7s 148us/step - loss: 2.7372 - acc: 0.8855\n",
      "Epoch 56/100\n",
      "44796/44796 [==============================] - 7s 148us/step - loss: 2.7371 - acc: 0.8855\n",
      "Epoch 57/100\n",
      "44796/44796 [==============================] - 7s 147us/step - loss: 2.7370 - acc: 0.8854\n",
      "Epoch 58/100\n",
      "44796/44796 [==============================] - 6s 144us/step - loss: 2.7369 - acc: 0.8855\n",
      "Epoch 59/100\n",
      "44796/44796 [==============================] - 7s 147us/step - loss: 2.7369 - acc: 0.8855\n",
      "Epoch 60/100\n",
      "44796/44796 [==============================] - 6s 145us/step - loss: 2.7371 - acc: 0.8854\n",
      "Epoch 61/100\n",
      "44796/44796 [==============================] - 7s 146us/step - loss: 2.7371 - acc: 0.8855\n",
      "Epoch 62/100\n",
      "44796/44796 [==============================] - 7s 146us/step - loss: 2.7368 - acc: 0.8854\n",
      "Epoch 63/100\n",
      "44796/44796 [==============================] - 7s 148us/step - loss: 2.7369 - acc: 0.8855\n",
      "Epoch 64/100\n",
      "44796/44796 [==============================] - 7s 146us/step - loss: 2.7369 - acc: 0.8853\n",
      "Epoch 65/100\n",
      "44796/44796 [==============================] - 7s 148us/step - loss: 2.7368 - acc: 0.8854\n",
      "Epoch 66/100\n",
      "44796/44796 [==============================] - 7s 147us/step - loss: 2.7367 - acc: 0.8855\n",
      "Epoch 67/100\n",
      "44796/44796 [==============================] - 7s 146us/step - loss: 2.7368 - acc: 0.8854\n",
      "Epoch 68/100\n",
      "44796/44796 [==============================] - 7s 146us/step - loss: 2.7367 - acc: 0.8855\n",
      "Epoch 69/100\n",
      "44796/44796 [==============================] - 7s 146us/step - loss: 2.7368 - acc: 0.8853\n",
      "Epoch 70/100\n",
      "44796/44796 [==============================] - 7s 147us/step - loss: 2.7366 - acc: 0.8852\n",
      "Epoch 71/100\n",
      "44796/44796 [==============================] - 7s 150us/step - loss: 2.7366 - acc: 0.8854\n",
      "Epoch 72/100\n",
      "44796/44796 [==============================] - 7s 147us/step - loss: 2.7368 - acc: 0.8853\n",
      "Epoch 73/100\n",
      "44796/44796 [==============================] - 7s 146us/step - loss: 2.7368 - acc: 0.8854\n",
      "Epoch 74/100\n",
      "44796/44796 [==============================] - 7s 155us/step - loss: 2.7367 - acc: 0.8853\n",
      "Epoch 75/100\n",
      "44796/44796 [==============================] - 8s 174us/step - loss: 2.7366 - acc: 0.8854\n",
      "Epoch 76/100\n",
      "44796/44796 [==============================] - 8s 168us/step - loss: 2.7366 - acc: 0.8852\n",
      "Epoch 77/100\n",
      "44796/44796 [==============================] - 8s 174us/step - loss: 2.7367 - acc: 0.8855\n",
      "Epoch 78/100\n",
      "44796/44796 [==============================] - 8s 184us/step - loss: 2.7365 - acc: 0.8854\n",
      "Epoch 79/100\n",
      "44796/44796 [==============================] - 8s 180us/step - loss: 2.7365 - acc: 0.8853\n",
      "Epoch 80/100\n"
     ]
    },
    {
     "name": "stdout",
     "output_type": "stream",
     "text": [
      "44796/44796 [==============================] - 7s 163us/step - loss: 2.7365 - acc: 0.8854\n",
      "Epoch 81/100\n",
      "44796/44796 [==============================] - 9s 190us/step - loss: 2.7363 - acc: 0.8853\n",
      "Epoch 82/100\n",
      "44796/44796 [==============================] - 6s 142us/step - loss: 2.7364 - acc: 0.8851\n",
      "Epoch 83/100\n",
      "44796/44796 [==============================] - 6s 136us/step - loss: 2.7365 - acc: 0.8852\n",
      "Epoch 84/100\n",
      "44796/44796 [==============================] - 6s 131us/step - loss: 2.7365 - acc: 0.8853\n",
      "Epoch 85/100\n",
      "44796/44796 [==============================] - 6s 131us/step - loss: 2.7365 - acc: 0.8854\n",
      "Epoch 86/100\n",
      "44796/44796 [==============================] - 6s 129us/step - loss: 2.7364 - acc: 0.8853\n",
      "Epoch 87/100\n",
      "44796/44796 [==============================] - 6s 137us/step - loss: 2.7363 - acc: 0.8854\n",
      "Epoch 88/100\n",
      "44796/44796 [==============================] - 6s 132us/step - loss: 2.7364 - acc: 0.8854\n",
      "Epoch 89/100\n",
      "44796/44796 [==============================] - 6s 129us/step - loss: 2.7364 - acc: 0.8852\n",
      "Epoch 90/100\n",
      "44796/44796 [==============================] - 6s 131us/step - loss: 2.7363 - acc: 0.8852\n",
      "Epoch 91/100\n",
      "44796/44796 [==============================] - 7s 146us/step - loss: 2.7364 - acc: 0.8852\n",
      "Epoch 92/100\n",
      "44796/44796 [==============================] - 6s 132us/step - loss: 2.7363 - acc: 0.8853\n",
      "Epoch 93/100\n",
      "44796/44796 [==============================] - 6s 130us/step - loss: 2.7362 - acc: 0.8853\n",
      "Epoch 94/100\n",
      "44796/44796 [==============================] - 6s 130us/step - loss: 2.7364 - acc: 0.8853\n",
      "Epoch 95/100\n",
      "44796/44796 [==============================] - 6s 129us/step - loss: 2.7363 - acc: 0.8853\n",
      "Epoch 96/100\n",
      "44796/44796 [==============================] - 6s 131us/step - loss: 2.7363 - acc: 0.8852\n",
      "Epoch 97/100\n",
      "44796/44796 [==============================] - 6s 130us/step - loss: 2.7364 - acc: 0.8852\n",
      "Epoch 98/100\n",
      "44796/44796 [==============================] - 6s 134us/step - loss: 2.7363 - acc: 0.8853\n",
      "Epoch 99/100\n",
      "44796/44796 [==============================] - 7s 155us/step - loss: 2.7362 - acc: 0.8853\n",
      "Epoch 100/100\n",
      "44796/44796 [==============================] - ETA: 0s - loss: 2.7363 - acc: 0.885 - 7s 155us/step - loss: 2.7361 - acc: 0.8853\n"
     ]
    },
    {
     "data": {
      "text/plain": [
       "<keras.callbacks.History at 0x1c99fc1fef0>"
      ]
     },
     "execution_count": 28,
     "metadata": {},
     "output_type": "execute_result"
    }
   ],
   "source": [
    "# Fitting the ANN to the Training set\n",
    "classifier.fit(X_train, y_train, batch_size = 10, epochs = 100)"
   ]
  },
  {
   "cell_type": "code",
   "execution_count": 30,
   "metadata": {},
   "outputs": [
    {
     "name": "stdout",
     "output_type": "stream",
     "text": [
      "14932/14932 [==============================] - 0s 25us/step\n",
      "acc: 88.08%\n"
     ]
    }
   ],
   "source": [
    "scores = classifier.evaluate(X_test, y_test)\n",
    "print(\"%s: %.2f%%\" % (classifier.metrics_names[1], scores[1]*100))"
   ]
  },
  {
   "cell_type": "code",
   "execution_count": 31,
   "metadata": {},
   "outputs": [
    {
     "name": "stdout",
     "output_type": "stream",
     "text": [
      "44796/44796 [==============================] - 1s 31us/step\n",
      "acc: 88.55%\n"
     ]
    }
   ],
   "source": [
    "scores = classifier.evaluate(X_train, y_train)\n",
    "print(\"%s: %.2f%%\" % (classifier.metrics_names[1], scores[1]*100))"
   ]
  },
  {
   "cell_type": "code",
   "execution_count": null,
   "metadata": {
    "collapsed": true
   },
   "outputs": [],
   "source": []
  }
 ],
 "metadata": {
  "kernelspec": {
   "display_name": "Python 3",
   "language": "python",
   "name": "python3"
  },
  "language_info": {
   "codemirror_mode": {
    "name": "ipython",
    "version": 3
   },
   "file_extension": ".py",
   "mimetype": "text/x-python",
   "name": "python",
   "nbconvert_exporter": "python",
   "pygments_lexer": "ipython3",
   "version": "3.6.3"
  }
 },
 "nbformat": 4,
 "nbformat_minor": 2
}
