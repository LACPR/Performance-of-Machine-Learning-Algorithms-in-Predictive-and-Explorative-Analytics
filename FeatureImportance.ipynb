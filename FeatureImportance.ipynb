{
 "cells": [
  {
   "cell_type": "code",
   "execution_count": 2,
   "metadata": {},
   "outputs": [],
   "source": [
    "# Major libraries\n",
    "import scipy\n",
    "import bottleneck \n",
    "import numpy as np\n",
    "import pandas as pd\n",
    "import seaborn as sns\n",
    "import matplotlib.pyplot as plt\n",
    "\n",
    "# Preprocessing\n",
    "from sklearn.preprocessing import StandardScaler, LabelEncoder\n",
    "from sklearn.preprocessing import scale\n",
    "from scipy.spatial.distance import euclidean\n",
    "from sklearn.model_selection import train_test_split\n",
    "from matplotlib.colors import ListedColormap\n",
    "from sklearn.datasets import make_classification\n",
    "from sklearn.metrics import accuracy_score, f1_score, precision_score, recall_score, classification_report, confusion_matrix\n",
    "\n"
   ]
  },
  {
   "cell_type": "code",
   "execution_count": 2,
   "metadata": {
    "collapsed": true
   },
   "outputs": [],
   "source": [
    "df = pd.read_csv('diabetic_data.csv', na_values=\"?\", low_memory=False)\n"
   ]
  },
  {
   "cell_type": "code",
   "execution_count": 7,
   "metadata": {
    "collapsed": true
   },
   "outputs": [],
   "source": [
    "# allow plots to appear in the notebook\n",
    "%matplotlib inline\n"
   ]
  },
  {
   "cell_type": "code",
   "execution_count": 28,
   "metadata": {
    "collapsed": true
   },
   "outputs": [],
   "source": [
    "def ICD9_classifier(diagnoses):\n",
    "    # Returns a series of strings corresponding to type of ICD9 diagnosis\n",
    "    # diagnoses is a list\n",
    "    gr_diagnoses = diagnoses.copy()\n",
    "    icd9_dct = {\n",
    "                'Infectious':(1, 139),\n",
    "                'Neoplasmic':(140,239),\n",
    "                'Hormonal':(240, 279),\n",
    "                'Blood':(280,289),\n",
    "                'Mental':(290,319),\n",
    "                'Nervous':(320,359),\n",
    "                'Sensory':(360,389),\n",
    "                'Circulatory':(390,459),\n",
    "                'Respiratory':(460,519),\n",
    "                'Digestive':(520,579),\n",
    "                'Genitourinary':(580,629),\n",
    "                'Childbirth':(630,679),\n",
    "                'Dermatological':(680,709),\n",
    "                'Musculoskeletal':(710,739),\n",
    "                'Congenital':(740,759),\n",
    "                'Perinatal':(760,779),\n",
    "                'Miscellaneous':(780,799),\n",
    "                'Injury':(800,999)\n",
    "               }\n",
    "    for i, diagnosis in enumerate(diagnoses):\n",
    "        if (str(diagnoses[i])[0] == 'E') or (str(diagnoses[i])[0] == 'V'):\n",
    "            gr_diagnoses[i] = 'Accidental'\n",
    "        elif (str(diagnoses[i]).lower() == 'nan'):\n",
    "            gr_diagnoses[i] = 'NaN'\n",
    "        else:\n",
    "            for key, icd_range in icd9_dct.items():\n",
    "                if (int(float(diagnoses[i])) >= icd_range[0]) and (int(float(diagnoses[i])) <= icd_range[1]):\n",
    "                    gr_diagnoses[i] = key\n",
    "    return gr_diagnoses\n",
    "\n"
   ]
  },
  {
   "cell_type": "code",
   "execution_count": 29,
   "metadata": {
    "collapsed": true
   },
   "outputs": [],
   "source": [
    "d1 = ICD9_classifier(df.diag_1.values)\n",
    "d2 = ICD9_classifier(df.diag_2.values)\n",
    "d3 = ICD9_classifier(df.diag_3.values)\n",
    "\n",
    "xy = df.copy()\n",
    "\n",
    "xy.diag_1 = d1\n",
    "xy.diag_2 = d2\n",
    "xy.diag_3 = d3"
   ]
  },
  {
   "cell_type": "code",
   "execution_count": 37,
   "metadata": {
    "collapsed": true
   },
   "outputs": [],
   "source": [
    "\n",
    "#Remove useless features\n",
    "xy.drop(['encounter_id', 'weight', 'payer_code', 'medical_specialty', 'metformin', 'repaglinide', 'nateglinide', 'chlorpropamide', 'glimepiride', 'acetohexamide', 'glipizide', 'glyburide', 'tolbutamide', 'pioglitazone', 'rosiglitazone', 'acarbose', 'miglitol', 'troglitazone', 'tolazamide', 'examide', 'citoglipton', 'glyburide_metformin', 'glipizide_metformin', 'glimepiride_pioglitazone', 'metformin_rosiglitazone', 'metformin_pioglitazone' ], axis=1, inplace=True);\n",
    "\n",
    "\n",
    "xy.race = df.race.map({'Other':0, 'AfricanAmerican':1, 'Asian':2, 'Caucasian':3, 'Hispanic':4, })\n",
    "xy.gender = df.gender.map({'Female':1,'Male':0})\n",
    "xy.insulin = df.insulin.map({'No':0, 'Steady':1, 'Up':2, 'Down':3 })\n",
    "xy.max_glu_serum = df.max_glu_serum.map({'None':0, 'Norm':1, '>200':2, '>300':3 })\n",
    "xy.A1Cresult = df.A1Cresult.map({'None':0, 'Norm':1, '>7':2, '>8':3 })\n",
    "xy.change = df.change.map({'No':0, 'Ch':1})\n",
    "xy.diabetesMed = df.diabetesMed.map({'No':0, 'Yes':1})\n",
    "\n",
    "\n",
    "# Label-encode age feature to an integer in the center of the raw bin\n",
    "xy.age = (LabelEncoder().fit_transform(xy.age)*10) + 5\n",
    "\n",
    "\n",
    "lb = LabelEncoder()\n",
    "xy['diag_1'] = lb.fit_transform(xy['diag_1']) \n",
    "#xy['medical_specialty'] = lb.fit_transform(xy['medical_specialty'])\n",
    "xy['diag_2'] = lb.fit_transform(xy['diag_2'])\n",
    "xy['diag_3'] = lb.fit_transform(xy['diag_3'])\n",
    "\n"
   ]
  },
  {
   "cell_type": "code",
   "execution_count": 38,
   "metadata": {},
   "outputs": [
    {
     "data": {
      "text/plain": [
       "array(['<30', '>30', 'NO'], dtype=object)"
      ]
     },
     "execution_count": 38,
     "metadata": {},
     "output_type": "execute_result"
    }
   ],
   "source": [
    "le_readm = LabelEncoder()\n",
    "xy.readmitted = pd.Series(le_readm.fit_transform(xy.readmitted),\n",
    "                                                      index=xy.index)\n",
    "le_readm.classes_ # 0 = <30, 1 = >30, 2 = NO"
   ]
  },
  {
   "cell_type": "code",
   "execution_count": 41,
   "metadata": {
    "collapsed": true
   },
   "outputs": [],
   "source": [
    "xy.dropna(inplace=True)"
   ]
  },
  {
   "cell_type": "code",
   "execution_count": 42,
   "metadata": {},
   "outputs": [
    {
     "data": {
      "text/plain": [
       "(99492, 24)"
      ]
     },
     "execution_count": 42,
     "metadata": {},
     "output_type": "execute_result"
    }
   ],
   "source": [
    "xy.shape"
   ]
  },
  {
   "cell_type": "code",
   "execution_count": 43,
   "metadata": {
    "collapsed": true
   },
   "outputs": [],
   "source": [
    "num_features = xy.columns\n",
    "\n",
    "# Remove outliers by class\n",
    "for response in xy.readmitted.unique(): # For each readmission response\n",
    "    response_df = xy[xy.readmitted==response] # For all samples that meet the readmission criteria\n",
    "    for column in response_df[num_features].columns: # Iterate through each feature of the sample\n",
    "        Q1 = response_df[column].quantile(0.25)\n",
    "        Q3 = response_df[column].quantile(0.75)\n",
    "        IQR = Q3-Q1\n",
    "        if IQR > 0: # And remove features that are outside of Q1 - 1.5IQR or Q3 + 1.5IQR\n",
    "            response_df = response_df[(response_df[column] > Q1-(1.5*IQR)) & (response_df[column] < Q3+(1.5*IQR))]\n",
    "            xy = xy.drop(xy[xy.readmitted==response].index, axis=0)\n",
    "            xy = xy.append(response_df)"
   ]
  },
  {
   "cell_type": "code",
   "execution_count": 44,
   "metadata": {},
   "outputs": [
    {
     "data": {
      "text/plain": [
       "(51611, 24)"
      ]
     },
     "execution_count": 44,
     "metadata": {},
     "output_type": "execute_result"
    }
   ],
   "source": [
    "xy.shape"
   ]
  },
  {
   "cell_type": "code",
   "execution_count": 45,
   "metadata": {},
   "outputs": [
    {
     "name": "stderr",
     "output_type": "stream",
     "text": [
      "C:\\Users\\CHANDIMA\\Anaconda3\\lib\\site-packages\\ipykernel_launcher.py:1: DeprecationWarning: \n",
      ".ix is deprecated. Please use\n",
      ".loc for label based indexing or\n",
      ".iloc for positional indexing\n",
      "\n",
      "See the documentation here:\n",
      "http://pandas.pydata.org/pandas-docs/stable/indexing.html#ix-indexer-is-deprecated\n",
      "  \"\"\"Entry point for launching an IPython kernel.\n"
     ]
    },
    {
     "data": {
      "text/html": [
       "<div>\n",
       "<style>\n",
       "    .dataframe thead tr:only-child th {\n",
       "        text-align: right;\n",
       "    }\n",
       "\n",
       "    .dataframe thead th {\n",
       "        text-align: left;\n",
       "    }\n",
       "\n",
       "    .dataframe tbody tr th {\n",
       "        vertical-align: top;\n",
       "    }\n",
       "</style>\n",
       "<table border=\"1\" class=\"dataframe\">\n",
       "  <thead>\n",
       "    <tr style=\"text-align: right;\">\n",
       "      <th></th>\n",
       "      <th>patient_nbr</th>\n",
       "      <th>race</th>\n",
       "      <th>gender</th>\n",
       "      <th>age</th>\n",
       "      <th>admission_type_id</th>\n",
       "      <th>discharge_disposition_id</th>\n",
       "      <th>admission_source_id</th>\n",
       "      <th>time_in_hospital</th>\n",
       "      <th>num_lab_procedures</th>\n",
       "      <th>num_procedures</th>\n",
       "      <th>...</th>\n",
       "      <th>diag_1</th>\n",
       "      <th>diag_2</th>\n",
       "      <th>diag_3</th>\n",
       "      <th>number_diagnoses</th>\n",
       "      <th>max_glu_serum</th>\n",
       "      <th>A1Cresult</th>\n",
       "      <th>insulin</th>\n",
       "      <th>change</th>\n",
       "      <th>diabetesMed</th>\n",
       "      <th>readmitted</th>\n",
       "    </tr>\n",
       "  </thead>\n",
       "  <tbody>\n",
       "    <tr>\n",
       "      <th>min</th>\n",
       "      <td>135.0</td>\n",
       "      <td>0.0</td>\n",
       "      <td>0.0</td>\n",
       "      <td>35.0</td>\n",
       "      <td>1.0</td>\n",
       "      <td>1.0</td>\n",
       "      <td>1.0</td>\n",
       "      <td>1.0</td>\n",
       "      <td>1.0</td>\n",
       "      <td>0.0</td>\n",
       "      <td>...</td>\n",
       "      <td>0.0</td>\n",
       "      <td>0.0</td>\n",
       "      <td>0.0</td>\n",
       "      <td>1.0</td>\n",
       "      <td>0.0</td>\n",
       "      <td>0.0</td>\n",
       "      <td>0.0</td>\n",
       "      <td>0.0</td>\n",
       "      <td>0.0</td>\n",
       "      <td>0.0</td>\n",
       "    </tr>\n",
       "    <tr>\n",
       "      <th>max</th>\n",
       "      <td>186173393.0</td>\n",
       "      <td>4.0</td>\n",
       "      <td>1.0</td>\n",
       "      <td>95.0</td>\n",
       "      <td>5.0</td>\n",
       "      <td>13.0</td>\n",
       "      <td>14.0</td>\n",
       "      <td>11.0</td>\n",
       "      <td>92.0</td>\n",
       "      <td>4.0</td>\n",
       "      <td>...</td>\n",
       "      <td>18.0</td>\n",
       "      <td>18.0</td>\n",
       "      <td>17.0</td>\n",
       "      <td>14.0</td>\n",
       "      <td>3.0</td>\n",
       "      <td>3.0</td>\n",
       "      <td>3.0</td>\n",
       "      <td>1.0</td>\n",
       "      <td>1.0</td>\n",
       "      <td>2.0</td>\n",
       "    </tr>\n",
       "  </tbody>\n",
       "</table>\n",
       "<p>2 rows × 24 columns</p>\n",
       "</div>"
      ],
      "text/plain": [
       "     patient_nbr  race  gender   age  admission_type_id  \\\n",
       "min        135.0   0.0     0.0  35.0                1.0   \n",
       "max  186173393.0   4.0     1.0  95.0                5.0   \n",
       "\n",
       "     discharge_disposition_id  admission_source_id  time_in_hospital  \\\n",
       "min                       1.0                  1.0               1.0   \n",
       "max                      13.0                 14.0              11.0   \n",
       "\n",
       "     num_lab_procedures  num_procedures     ...      diag_1  diag_2  diag_3  \\\n",
       "min                 1.0             0.0     ...         0.0     0.0     0.0   \n",
       "max                92.0             4.0     ...        18.0    18.0    17.0   \n",
       "\n",
       "     number_diagnoses  max_glu_serum  A1Cresult  insulin  change  diabetesMed  \\\n",
       "min               1.0            0.0        0.0      0.0     0.0          0.0   \n",
       "max              14.0            3.0        3.0      3.0     1.0          1.0   \n",
       "\n",
       "     readmitted  \n",
       "min         0.0  \n",
       "max         2.0  \n",
       "\n",
       "[2 rows x 24 columns]"
      ]
     },
     "execution_count": 45,
     "metadata": {},
     "output_type": "execute_result"
    }
   ],
   "source": [
    "xy.describe().ix[['min', 'max'],:]"
   ]
  },
  {
   "cell_type": "code",
   "execution_count": 47,
   "metadata": {},
   "outputs": [
    {
     "data": {
      "text/plain": [
       "Series([], dtype: float64)"
      ]
     },
     "execution_count": 47,
     "metadata": {},
     "output_type": "execute_result"
    }
   ],
   "source": [
    "percent_null(xy)"
   ]
  },
  {
   "cell_type": "code",
   "execution_count": 55,
   "metadata": {
    "collapsed": true
   },
   "outputs": [],
   "source": [
    "y = xy.iloc[:,22:23]\n",
    "x = xy.drop('readmitted', 1)\n"
   ]
  },
  {
   "cell_type": "code",
   "execution_count": 56,
   "metadata": {
    "collapsed": true
   },
   "outputs": [],
   "source": [
    "x_train, x_test, y_train, y_test = train_test_split(x, y, test_size=0.20, random_state=1)"
   ]
  },
  {
   "cell_type": "code",
   "execution_count": 59,
   "metadata": {
    "collapsed": true
   },
   "outputs": [],
   "source": [
    "import numpy as np\n",
    "import matplotlib.pyplot as plt"
   ]
  },
  {
   "cell_type": "code",
   "execution_count": 60,
   "metadata": {
    "collapsed": true
   },
   "outputs": [],
   "source": [
    "from sklearn.datasets import make_classification\n",
    "from sklearn.ensemble import ExtraTreesClassifier"
   ]
  },
  {
   "cell_type": "code",
   "execution_count": 62,
   "metadata": {
    "collapsed": true
   },
   "outputs": [],
   "source": [
    "# Build a forest and compute the feature importances\n",
    "forest = ExtraTreesClassifier(n_estimators=250,\n",
    "                              random_state=0)\n"
   ]
  },
  {
   "cell_type": "code",
   "execution_count": 63,
   "metadata": {},
   "outputs": [
    {
     "name": "stderr",
     "output_type": "stream",
     "text": [
      "C:\\Users\\CHANDIMA\\Anaconda3\\lib\\site-packages\\ipykernel_launcher.py:1: DataConversionWarning: A column-vector y was passed when a 1d array was expected. Please change the shape of y to (n_samples,), for example using ravel().\n",
      "  \"\"\"Entry point for launching an IPython kernel.\n"
     ]
    }
   ],
   "source": [
    "forest.fit(x, y)\n",
    "importances = forest.feature_importances_\n",
    "std = np.std([tree.feature_importances_ for tree in forest.estimators_],\n",
    "             axis=0)\n",
    "indices = np.argsort(importances)[::-1]"
   ]
  },
  {
   "cell_type": "code",
   "execution_count": 64,
   "metadata": {},
   "outputs": [
    {
     "name": "stdout",
     "output_type": "stream",
     "text": [
      "Feature ranking:\n",
      "1. feature 7 (0.093097)\n",
      "2. feature 9 (0.088075)\n",
      "3. feature 15 (0.076681)\n",
      "4. feature 6 (0.074834)\n",
      "5. feature 14 (0.070983)\n",
      "6. feature 13 (0.070469)\n",
      "7. feature 2 (0.063508)\n",
      "8. feature 16 (0.055402)\n",
      "9. feature 19 (0.050921)\n",
      "10. feature 8 (0.049420)\n",
      "11. feature 4 (0.044372)\n",
      "12. feature 12 (0.037359)\n",
      "13. feature 10 (0.035611)\n",
      "14. feature 3 (0.033621)\n",
      "15. feature 1 (0.030357)\n",
      "16. feature 5 (0.027205)\n",
      "17. feature 0 (0.025989)\n",
      "18. feature 18 (0.025747)\n",
      "19. feature 11 (0.023283)\n",
      "20. feature 20 (0.015118)\n",
      "21. feature 21 (0.006558)\n",
      "22. feature 17 (0.001391)\n"
     ]
    }
   ],
   "source": [
    "# Print the feature ranking\n",
    "print(\"Feature ranking:\")\n",
    "\n",
    "for f in range(x.shape[1]):\n",
    "    print(\"%d. feature %d (%f)\" % (f + 1, indices[f], importances[indices[f]]))\n"
   ]
  },
  {
   "cell_type": "code",
   "execution_count": 65,
   "metadata": {},
   "outputs": [
    {
     "data": {
      "image/png": "[encoded data removed]",
      "text/plain": [
       "<matplotlib.figure.Figure at 0x2340a72dc50>"
      ]
     },
     "metadata": {},
     "output_type": "display_data"
    }
   ],
   "source": [
    "# Plot the feature importances of the forest\n",
    "plt.figure()\n",
    "plt.title(\"Feature Importance\")\n",
    "plt.bar(range(x.shape[1]), importances[indices],\n",
    "       color=\"b\", yerr=std[indices], align=\"center\")\n",
    "plt.xticks(range(x.shape[1]), indices)\n",
    "plt.xlim([-1, x.shape[1]])\n",
    "plt.show()"
   ]
  },
  {
   "cell_type": "code",
   "execution_count": 66,
   "metadata": {},
   "outputs": [
    {
     "data": {
      "text/plain": [
       "Index(['race', 'gender', 'age', 'admission_type_id',\n",
       "       'discharge_disposition_id', 'admission_source_id', 'time_in_hospital',\n",
       "       'num_lab_procedures', 'num_procedures', 'num_medications',\n",
       "       'number_outpatient', 'number_emergency', 'number_inpatient', 'diag_1',\n",
       "       'diag_2', 'diag_3', 'number_diagnoses', 'max_glu_serum', 'A1Cresult',\n",
       "       'insulin', 'change', 'diabetesMed'],\n",
       "      dtype='object')"
      ]
     },
     "execution_count": 66,
     "metadata": {},
     "output_type": "execute_result"
    }
   ],
   "source": [
    "x.columns"
   ]
  },
  {
   "cell_type": "markdown",
   "metadata": {
    "collapsed": true
   },
   "source": [
    "Feature importance of the selected 22 feature. From 22 features, some features have very low ranking.\n",
    "Therefore, only the first 10 features with highest feature ranking will be considered for the final analysis."
   ]
  }
 ],
 "metadata": {
  "kernelspec": {
   "display_name": "Python 3",
   "language": "python",
   "name": "python3"
  },
  "language_info": {
   "codemirror_mode": {
    "name": "ipython",
    "version": 3
   },
   "file_extension": ".py",
   "mimetype": "text/x-python",
   "name": "python",
   "nbconvert_exporter": "python",
   "pygments_lexer": "ipython3",
   "version": "3.6.3"
  }
 },
 "nbformat": 4,
 "nbformat_minor": 2
}
