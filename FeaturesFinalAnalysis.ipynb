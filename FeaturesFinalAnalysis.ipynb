{
 "cells": [
  {
   "cell_type": "code",
   "execution_count": 1,
   "metadata": {
    "collapsed": true
   },
   "outputs": [],
   "source": [
    "# Major Libraries\n",
    "import pandas as pd\n",
    "import matplotlib.pyplot as plt\n",
    "from IPython.display import clear_output\n",
    "from sklearn.preprocessing import LabelEncoder, OneHotEncoder\n",
    "from sklearn.preprocessing import LabelEncoder\n",
    "from sklearn.preprocessing import StandardScaler"
   ]
  },
  {
   "cell_type": "code",
   "execution_count": 2,
   "metadata": {},
   "outputs": [
    {
     "name": "stderr",
     "output_type": "stream",
     "text": [
      "C:\\Users\\CHANDIMA\\Anaconda3\\lib\\site-packages\\IPython\\core\\interactiveshell.py:2698: DtypeWarning: Columns (10) have mixed types. Specify dtype option on import or set low_memory=False.\n",
      "  interactivity=interactivity, compiler=compiler, result=result)\n"
     ]
    }
   ],
   "source": [
    "dataset = pd.read_csv(\"diabetic_data.csv\", na_values=\"?\")"
   ]
  },
  {
   "cell_type": "markdown",
   "metadata": {},
   "source": [
    "# Data Preprocessing"
   ]
  },
  {
   "cell_type": "markdown",
   "metadata": {},
   "source": [
    "Features like \"encounter_id\", \"patient_nbr\" and \"payer_code\" are not contributed to decide the readmission status. They can be removed.\n",
    "\n",
    "Missing data should be replaced or removed.\n",
    "\"age\" should be label-encoded into an integer.\n",
    "Useless features should be removed.\n",
    "'diag_1', 'diag_2', 'diag_3' can be indicated as ICD9 codes. (Primary, Secondary & Tertiary Medica Diagnoses).\n",
    "\n",
    "Categorical data should be encoded.\n",
    "\n",
    "Feature Scaling should be applied.\n",
    "\n"
   ]
  },
  {
   "cell_type": "markdown",
   "metadata": {},
   "source": [
    "As 97% of data is missing. \"weight\" can be removed.\n",
    "\"payer_code\" has no effect on the readmission status. So it can be removed.\n",
    "\n",
    "\"diag_1, diag_2, and diag_3\" records with missing values will be ignored in the final analysis.\n"
   ]
  },
  {
   "cell_type": "markdown",
   "metadata": {
    "collapsed": true
   },
   "source": [
    "As the majority of the data is missing, \"medical_specialty\" will be ignored in the final analysis."
   ]
  },
  {
   "cell_type": "raw",
   "metadata": {},
   "source": [
    "# Decide which medications should be included in the final analysis."
   ]
  },
  {
   "cell_type": "code",
   "execution_count": 3,
   "metadata": {
    "collapsed": true
   },
   "outputs": [],
   "source": [
    "# allow plots to appear in the notebook\n",
    "%matplotlib inline\n"
   ]
  },
  {
   "cell_type": "raw",
   "metadata": {
    "collapsed": true
   },
   "source": [
    "The only medicaion that vary across the patients is the insulin delivery. Therefore, only the value of insulin is considered in the final analysis."
   ]
  },
  {
   "cell_type": "code",
   "execution_count": 4,
   "metadata": {
    "collapsed": true
   },
   "outputs": [],
   "source": [
    "#Remove useless features\n",
    "dataset.drop(['encounter_id', 'patient_nbr',  'weight', 'payer_code',  'medical_specialty',  'max_glu_serum', 'A1Cresult', 'metformin', 'repaglinide', 'nateglinide', 'chlorpropamide', 'glimepiride', 'acetohexamide', 'glipizide', 'glyburide', 'tolbutamide', 'pioglitazone', 'rosiglitazone', 'acarbose', 'miglitol', 'troglitazone', 'tolazamide', 'examide', 'citoglipton', 'glyburide_metformin', 'glipizide_metformin', 'glimepiride_pioglitazone', 'metformin_rosiglitazone', 'metformin_pioglitazone' ], axis=1, inplace=True)"
   ]
  },
  {
   "cell_type": "code",
   "execution_count": 5,
   "metadata": {},
   "outputs": [
    {
     "data": {
      "text/plain": [
       "<matplotlib.axes._subplots.AxesSubplot at 0x2d3c05b6080>"
      ]
     },
     "execution_count": 5,
     "metadata": {},
     "output_type": "execute_result"
    },
    {
     "data": {
      "image/png": "[encoded data removed]",
      "text/plain": [
       "<Figure size 432x288 with 1 Axes>"
      ]
     },
     "metadata": {},
     "output_type": "display_data"
    }
   ],
   "source": [
    "dataset.gender.value_counts().plot(kind='bar')"
   ]
  },
  {
   "cell_type": "code",
   "execution_count": 6,
   "metadata": {},
   "outputs": [
    {
     "data": {
      "text/plain": [
       "Female             54708\n",
       "Male               47055\n",
       "Unknown/Invalid        3\n",
       "Name: gender, dtype: int64"
      ]
     },
     "execution_count": 6,
     "metadata": {},
     "output_type": "execute_result"
    }
   ],
   "source": [
    "dataset['gender'].value_counts().head()"
   ]
  },
  {
   "cell_type": "code",
   "execution_count": 7,
   "metadata": {
    "collapsed": true
   },
   "outputs": [],
   "source": [
    "# In the feature \"gender\", there are 03 invalid data which should be removed.\n",
    "dataset = dataset[dataset.gender != 'Unknown/Invalid']"
   ]
  },
  {
   "cell_type": "code",
   "execution_count": 8,
   "metadata": {},
   "outputs": [
    {
     "data": {
      "text/plain": [
       "<matplotlib.axes._subplots.AxesSubplot at 0x2d3c17ed748>"
      ]
     },
     "execution_count": 8,
     "metadata": {},
     "output_type": "execute_result"
    },
    {
     "data": {
      "image/png": "[encoded data removed]",
      "text/plain": [
       "<Figure size 432x288 with 1 Axes>"
      ]
     },
     "metadata": {},
     "output_type": "display_data"
    }
   ],
   "source": [
    "dataset.gender.value_counts().plot(kind='bar')"
   ]
  },
  {
   "cell_type": "code",
   "execution_count": 9,
   "metadata": {
    "collapsed": true
   },
   "outputs": [],
   "source": [
    "# Removing rows which has missing values in \"race\", \"diag_1\", \"diag_2\", \"diag_3\"\n",
    "finalDataset = dataset.dropna()"
   ]
  },
  {
   "cell_type": "code",
   "execution_count": 10,
   "metadata": {},
   "outputs": [
    {
     "data": {
      "text/plain": [
       "(98052, 21)"
      ]
     },
     "execution_count": 10,
     "metadata": {},
     "output_type": "execute_result"
    }
   ],
   "source": [
    "finalDataset.shape"
   ]
  },
  {
   "cell_type": "code",
   "execution_count": 12,
   "metadata": {},
   "outputs": [
    {
     "name": "stdout",
     "output_type": "stream",
     "text": [
      "race                        0\n",
      "gender                      0\n",
      "age                         0\n",
      "admission_type_id           0\n",
      "discharge_disposition_id    0\n",
      "admission_source_id         0\n",
      "time_in_hospital            0\n",
      "num_lab_procedures          0\n",
      "num_procedures              0\n",
      "num_medications             0\n",
      "number_outpatient           0\n",
      "number_emergency            0\n",
      "number_inpatient            0\n",
      "diag_1                      0\n",
      "diag_2                      0\n",
      "diag_3                      0\n",
      "number_diagnoses            0\n",
      "insulin                     0\n",
      "change                      0\n",
      "diabetesMed                 0\n",
      "readmitted                  0\n",
      "dtype: int64\n"
     ]
    }
   ],
   "source": [
    "print(finalDataset.isnull().sum())"
   ]
  },
  {
   "cell_type": "code",
   "execution_count": 13,
   "metadata": {},
   "outputs": [
    {
     "data": {
      "text/plain": [
       "(98052, 21)"
      ]
     },
     "execution_count": 13,
     "metadata": {},
     "output_type": "execute_result"
    }
   ],
   "source": [
    "finalDataset.shape"
   ]
  },
  {
   "cell_type": "code",
   "execution_count": 14,
   "metadata": {},
   "outputs": [
    {
     "data": {
      "text/plain": [
       "Index(['race', 'gender', 'age', 'admission_type_id',\n",
       "       'discharge_disposition_id', 'admission_source_id', 'time_in_hospital',\n",
       "       'num_lab_procedures', 'num_procedures', 'num_medications',\n",
       "       'number_outpatient', 'number_emergency', 'number_inpatient', 'diag_1',\n",
       "       'diag_2', 'diag_3', 'number_diagnoses', 'insulin', 'change',\n",
       "       'diabetesMed', 'readmitted'],\n",
       "      dtype='object')"
      ]
     },
     "execution_count": 14,
     "metadata": {},
     "output_type": "execute_result"
    }
   ],
   "source": [
    "finalDataset.columns"
   ]
  },
  {
   "cell_type": "code",
   "execution_count": 15,
   "metadata": {
    "collapsed": true
   },
   "outputs": [],
   "source": [
    "# ICD9 Codes for diag_1, diag_2 and diag_3\n",
    "def ICD9_classifier(diagnoses):\n",
    "    # Returns a series of strings corresponding to type of ICD9 diagnosis\n",
    "    # diagnoses is a list\n",
    "    gr_diagnoses = diagnoses.copy()\n",
    "    icd9_dct = {\n",
    "                'Infectious':(1, 139),\n",
    "                'Neoplasmic':(140,239),\n",
    "                'Hormonal':(240, 279),\n",
    "                'Blood':(280,289),\n",
    "                'Mental':(290,319),\n",
    "                'Nervous':(320,359),\n",
    "                'Sensory':(360,389),\n",
    "                'Circulatory':(390,459),\n",
    "                'Respiratory':(460,519),\n",
    "                'Digestive':(520,579),\n",
    "                'Genitourinary':(580,629),\n",
    "                'Childbirth':(630,679),\n",
    "                'Dermatological':(680,709),\n",
    "                'Musculoskeletal':(710,739),\n",
    "                'Congenital':(740,759),\n",
    "                'Perinatal':(760,779),\n",
    "                'Miscellaneous':(780,799),\n",
    "                'Injury':(800,999)\n",
    "               }\n",
    "    for i, diagnosis in enumerate(diagnoses):\n",
    "        if (str(diagnoses[i])[0] == 'E') or (str(diagnoses[i])[0] == 'V'):\n",
    "            gr_diagnoses[i] = 'Accidental'\n",
    "        elif (str(diagnoses[i]).lower() == 'nan'):\n",
    "            gr_diagnoses[i] = 'NaN'\n",
    "        else:\n",
    "            for key, icd_range in icd9_dct.items():\n",
    "                if (int(float(diagnoses[i])) >= icd_range[0]) and (int(float(diagnoses[i])) <= icd_range[1]):\n",
    "                    gr_diagnoses[i] = key\n",
    "    return gr_diagnoses"
   ]
  },
  {
   "cell_type": "code",
   "execution_count": 16,
   "metadata": {},
   "outputs": [
    {
     "name": "stderr",
     "output_type": "stream",
     "text": [
      "C:\\Users\\CHANDIMA\\Anaconda3\\lib\\site-packages\\pandas\\core\\generic.py:3110: SettingWithCopyWarning: \n",
      "A value is trying to be set on a copy of a slice from a DataFrame.\n",
      "Try using .loc[row_indexer,col_indexer] = value instead\n",
      "\n",
      "See the caveats in the documentation: http://pandas.pydata.org/pandas-docs/stable/indexing.html#indexing-view-versus-copy\n",
      "  self[name] = value\n"
     ]
    }
   ],
   "source": [
    "d1 = ICD9_classifier(finalDataset.diag_1.values)\n",
    "d2 = ICD9_classifier(finalDataset.diag_2.values)\n",
    "d3 = ICD9_classifier(finalDataset.diag_3.values)\n",
    "\n",
    "\n",
    "finalDataset.diag_1 = d1\n",
    "finalDataset.diag_2 = d2\n",
    "finalDataset.diag_3 = d3"
   ]
  },
  {
   "cell_type": "code",
   "execution_count": 17,
   "metadata": {},
   "outputs": [
    {
     "data": {
      "text/html": [
       "<div>\n",
       "<style>\n",
       "    .dataframe thead tr:only-child th {\n",
       "        text-align: right;\n",
       "    }\n",
       "\n",
       "    .dataframe thead th {\n",
       "        text-align: left;\n",
       "    }\n",
       "\n",
       "    .dataframe tbody tr th {\n",
       "        vertical-align: top;\n",
       "    }\n",
       "</style>\n",
       "<table border=\"1\" class=\"dataframe\">\n",
       "  <thead>\n",
       "    <tr style=\"text-align: right;\">\n",
       "      <th></th>\n",
       "      <th>race</th>\n",
       "      <th>gender</th>\n",
       "      <th>age</th>\n",
       "      <th>admission_type_id</th>\n",
       "      <th>discharge_disposition_id</th>\n",
       "      <th>admission_source_id</th>\n",
       "      <th>time_in_hospital</th>\n",
       "      <th>num_lab_procedures</th>\n",
       "      <th>num_procedures</th>\n",
       "      <th>num_medications</th>\n",
       "      <th>...</th>\n",
       "      <th>number_emergency</th>\n",
       "      <th>number_inpatient</th>\n",
       "      <th>diag_1</th>\n",
       "      <th>diag_2</th>\n",
       "      <th>diag_3</th>\n",
       "      <th>number_diagnoses</th>\n",
       "      <th>insulin</th>\n",
       "      <th>change</th>\n",
       "      <th>diabetesMed</th>\n",
       "      <th>readmitted</th>\n",
       "    </tr>\n",
       "  </thead>\n",
       "  <tbody>\n",
       "    <tr>\n",
       "      <th>1</th>\n",
       "      <td>Caucasian</td>\n",
       "      <td>Female</td>\n",
       "      <td>[10-20)</td>\n",
       "      <td>1</td>\n",
       "      <td>1</td>\n",
       "      <td>7</td>\n",
       "      <td>3</td>\n",
       "      <td>59</td>\n",
       "      <td>0</td>\n",
       "      <td>18</td>\n",
       "      <td>...</td>\n",
       "      <td>0</td>\n",
       "      <td>0</td>\n",
       "      <td>Hormonal</td>\n",
       "      <td>Hormonal</td>\n",
       "      <td>Hormonal</td>\n",
       "      <td>9</td>\n",
       "      <td>Up</td>\n",
       "      <td>Ch</td>\n",
       "      <td>Yes</td>\n",
       "      <td>&gt;30</td>\n",
       "    </tr>\n",
       "    <tr>\n",
       "      <th>2</th>\n",
       "      <td>AfricanAmerican</td>\n",
       "      <td>Female</td>\n",
       "      <td>[20-30)</td>\n",
       "      <td>1</td>\n",
       "      <td>1</td>\n",
       "      <td>7</td>\n",
       "      <td>2</td>\n",
       "      <td>11</td>\n",
       "      <td>5</td>\n",
       "      <td>13</td>\n",
       "      <td>...</td>\n",
       "      <td>0</td>\n",
       "      <td>1</td>\n",
       "      <td>Childbirth</td>\n",
       "      <td>Hormonal</td>\n",
       "      <td>Accidental</td>\n",
       "      <td>6</td>\n",
       "      <td>No</td>\n",
       "      <td>No</td>\n",
       "      <td>Yes</td>\n",
       "      <td>NO</td>\n",
       "    </tr>\n",
       "    <tr>\n",
       "      <th>3</th>\n",
       "      <td>Caucasian</td>\n",
       "      <td>Male</td>\n",
       "      <td>[30-40)</td>\n",
       "      <td>1</td>\n",
       "      <td>1</td>\n",
       "      <td>7</td>\n",
       "      <td>2</td>\n",
       "      <td>44</td>\n",
       "      <td>1</td>\n",
       "      <td>16</td>\n",
       "      <td>...</td>\n",
       "      <td>0</td>\n",
       "      <td>0</td>\n",
       "      <td>Infectious</td>\n",
       "      <td>Hormonal</td>\n",
       "      <td>Circulatory</td>\n",
       "      <td>7</td>\n",
       "      <td>Up</td>\n",
       "      <td>Ch</td>\n",
       "      <td>Yes</td>\n",
       "      <td>NO</td>\n",
       "    </tr>\n",
       "    <tr>\n",
       "      <th>4</th>\n",
       "      <td>Caucasian</td>\n",
       "      <td>Male</td>\n",
       "      <td>[40-50)</td>\n",
       "      <td>1</td>\n",
       "      <td>1</td>\n",
       "      <td>7</td>\n",
       "      <td>1</td>\n",
       "      <td>51</td>\n",
       "      <td>0</td>\n",
       "      <td>8</td>\n",
       "      <td>...</td>\n",
       "      <td>0</td>\n",
       "      <td>0</td>\n",
       "      <td>Neoplasmic</td>\n",
       "      <td>Neoplasmic</td>\n",
       "      <td>Hormonal</td>\n",
       "      <td>5</td>\n",
       "      <td>Steady</td>\n",
       "      <td>Ch</td>\n",
       "      <td>Yes</td>\n",
       "      <td>NO</td>\n",
       "    </tr>\n",
       "    <tr>\n",
       "      <th>5</th>\n",
       "      <td>Caucasian</td>\n",
       "      <td>Male</td>\n",
       "      <td>[50-60)</td>\n",
       "      <td>2</td>\n",
       "      <td>1</td>\n",
       "      <td>2</td>\n",
       "      <td>3</td>\n",
       "      <td>31</td>\n",
       "      <td>6</td>\n",
       "      <td>16</td>\n",
       "      <td>...</td>\n",
       "      <td>0</td>\n",
       "      <td>0</td>\n",
       "      <td>Circulatory</td>\n",
       "      <td>Circulatory</td>\n",
       "      <td>Hormonal</td>\n",
       "      <td>9</td>\n",
       "      <td>Steady</td>\n",
       "      <td>No</td>\n",
       "      <td>Yes</td>\n",
       "      <td>&gt;30</td>\n",
       "    </tr>\n",
       "  </tbody>\n",
       "</table>\n",
       "<p>5 rows × 21 columns</p>\n",
       "</div>"
      ],
      "text/plain": [
       "              race  gender      age  admission_type_id  \\\n",
       "1        Caucasian  Female  [10-20)                  1   \n",
       "2  AfricanAmerican  Female  [20-30)                  1   \n",
       "3        Caucasian    Male  [30-40)                  1   \n",
       "4        Caucasian    Male  [40-50)                  1   \n",
       "5        Caucasian    Male  [50-60)                  2   \n",
       "\n",
       "   discharge_disposition_id  admission_source_id  time_in_hospital  \\\n",
       "1                         1                    7                 3   \n",
       "2                         1                    7                 2   \n",
       "3                         1                    7                 2   \n",
       "4                         1                    7                 1   \n",
       "5                         1                    2                 3   \n",
       "\n",
       "   num_lab_procedures  num_procedures  num_medications    ...      \\\n",
       "1                  59               0               18    ...       \n",
       "2                  11               5               13    ...       \n",
       "3                  44               1               16    ...       \n",
       "4                  51               0                8    ...       \n",
       "5                  31               6               16    ...       \n",
       "\n",
       "   number_emergency  number_inpatient       diag_1       diag_2       diag_3  \\\n",
       "1                 0                 0     Hormonal     Hormonal     Hormonal   \n",
       "2                 0                 1   Childbirth     Hormonal   Accidental   \n",
       "3                 0                 0   Infectious     Hormonal  Circulatory   \n",
       "4                 0                 0   Neoplasmic   Neoplasmic     Hormonal   \n",
       "5                 0                 0  Circulatory  Circulatory     Hormonal   \n",
       "\n",
       "  number_diagnoses  insulin change diabetesMed readmitted  \n",
       "1                9       Up     Ch         Yes        >30  \n",
       "2                6       No     No         Yes         NO  \n",
       "3                7       Up     Ch         Yes         NO  \n",
       "4                5   Steady     Ch         Yes         NO  \n",
       "5                9   Steady     No         Yes        >30  \n",
       "\n",
       "[5 rows x 21 columns]"
      ]
     },
     "execution_count": 17,
     "metadata": {},
     "output_type": "execute_result"
    }
   ],
   "source": [
    "finalDataset.head(5)"
   ]
  },
  {
   "cell_type": "code",
   "execution_count": null,
   "metadata": {
    "collapsed": true
   },
   "outputs": [],
   "source": [
    "\n",
    "# Label-encode age feature to an integer in the center of the raw bin\n",
    "finalDataset.age = (LabelEncoder().fit_transform(finalDataset.age)*10) + 5\n",
    "\n",
    "#  Encoding - Categorical Data\n",
    "lb = LabelEncoder()\n",
    "finalDataset['race'] = lb.fit_transform(finalDataset['race']) \n",
    "finalDataset['gender'] = lb.fit_transform(finalDataset['gender'])\n",
    "finalDataset['diag_1'] = lb.fit_transform(finalDataset['diag_1']) \n",
    "finalDataset['diag_2'] = lb.fit_transform(finalDataset['diag_2'])\n",
    "finalDataset['diag_3'] = lb.fit_transform(finalDataset['diag_3'])\n",
    "#finalDataset['max_glu_serum'] = lb.fit_transform(finalDataset['max_glu_serum'])\n",
    "#finalDataset['A1Cresult'] = lb.fit_transform(finalDataset['A1Cresult'])\n",
    "finalDataset['insulin'] = lb.fit_transform(finalDataset['insulin']) \n",
    "finalDataset['change'] = lb.fit_transform(finalDataset['change'])\n",
    "finalDataset['diabetesMed'] = lb.fit_transform(finalDataset['diabetesMed'])\n",
    "\n",
    "\n",
    "le_readm = LabelEncoder()\n",
    "finalDataset.readmitted = pd.Series(le_readm.fit_transform(finalDataset.readmitted),\n",
    "                                                      index=finalDataset.index)\n",
    "#le_readm.classes_ # 0 = <30, 1 = >30, 2 = NO"
   ]
  },
  {
   "cell_type": "code",
   "execution_count": 19,
   "metadata": {},
   "outputs": [
    {
     "data": {
      "text/html": [
       "<div>\n",
       "<style>\n",
       "    .dataframe thead tr:only-child th {\n",
       "        text-align: right;\n",
       "    }\n",
       "\n",
       "    .dataframe thead th {\n",
       "        text-align: left;\n",
       "    }\n",
       "\n",
       "    .dataframe tbody tr th {\n",
       "        vertical-align: top;\n",
       "    }\n",
       "</style>\n",
       "<table border=\"1\" class=\"dataframe\">\n",
       "  <thead>\n",
       "    <tr style=\"text-align: right;\">\n",
       "      <th></th>\n",
       "      <th>race</th>\n",
       "      <th>gender</th>\n",
       "      <th>age</th>\n",
       "      <th>admission_type_id</th>\n",
       "      <th>discharge_disposition_id</th>\n",
       "      <th>admission_source_id</th>\n",
       "      <th>time_in_hospital</th>\n",
       "      <th>num_lab_procedures</th>\n",
       "      <th>num_procedures</th>\n",
       "      <th>num_medications</th>\n",
       "      <th>...</th>\n",
       "      <th>number_emergency</th>\n",
       "      <th>number_inpatient</th>\n",
       "      <th>diag_1</th>\n",
       "      <th>diag_2</th>\n",
       "      <th>diag_3</th>\n",
       "      <th>number_diagnoses</th>\n",
       "      <th>insulin</th>\n",
       "      <th>change</th>\n",
       "      <th>diabetesMed</th>\n",
       "      <th>readmitted</th>\n",
       "    </tr>\n",
       "  </thead>\n",
       "  <tbody>\n",
       "    <tr>\n",
       "      <th>101761</th>\n",
       "      <td>0</td>\n",
       "      <td>1</td>\n",
       "      <td>75</td>\n",
       "      <td>1</td>\n",
       "      <td>3</td>\n",
       "      <td>7</td>\n",
       "      <td>3</td>\n",
       "      <td>51</td>\n",
       "      <td>0</td>\n",
       "      <td>16</td>\n",
       "      <td>...</td>\n",
       "      <td>0</td>\n",
       "      <td>0</td>\n",
       "      <td>8</td>\n",
       "      <td>11</td>\n",
       "      <td>3</td>\n",
       "      <td>9</td>\n",
       "      <td>0</td>\n",
       "      <td>0</td>\n",
       "      <td>1</td>\n",
       "      <td>1</td>\n",
       "    </tr>\n",
       "    <tr>\n",
       "      <th>101762</th>\n",
       "      <td>0</td>\n",
       "      <td>0</td>\n",
       "      <td>85</td>\n",
       "      <td>1</td>\n",
       "      <td>4</td>\n",
       "      <td>5</td>\n",
       "      <td>5</td>\n",
       "      <td>33</td>\n",
       "      <td>3</td>\n",
       "      <td>18</td>\n",
       "      <td>...</td>\n",
       "      <td>0</td>\n",
       "      <td>1</td>\n",
       "      <td>6</td>\n",
       "      <td>8</td>\n",
       "      <td>12</td>\n",
       "      <td>9</td>\n",
       "      <td>2</td>\n",
       "      <td>1</td>\n",
       "      <td>1</td>\n",
       "      <td>2</td>\n",
       "    </tr>\n",
       "    <tr>\n",
       "      <th>101763</th>\n",
       "      <td>2</td>\n",
       "      <td>1</td>\n",
       "      <td>75</td>\n",
       "      <td>1</td>\n",
       "      <td>1</td>\n",
       "      <td>7</td>\n",
       "      <td>1</td>\n",
       "      <td>53</td>\n",
       "      <td>0</td>\n",
       "      <td>9</td>\n",
       "      <td>...</td>\n",
       "      <td>0</td>\n",
       "      <td>0</td>\n",
       "      <td>9</td>\n",
       "      <td>7</td>\n",
       "      <td>11</td>\n",
       "      <td>13</td>\n",
       "      <td>0</td>\n",
       "      <td>0</td>\n",
       "      <td>1</td>\n",
       "      <td>2</td>\n",
       "    </tr>\n",
       "    <tr>\n",
       "      <th>101764</th>\n",
       "      <td>2</td>\n",
       "      <td>0</td>\n",
       "      <td>85</td>\n",
       "      <td>2</td>\n",
       "      <td>3</td>\n",
       "      <td>7</td>\n",
       "      <td>10</td>\n",
       "      <td>45</td>\n",
       "      <td>2</td>\n",
       "      <td>21</td>\n",
       "      <td>...</td>\n",
       "      <td>0</td>\n",
       "      <td>1</td>\n",
       "      <td>10</td>\n",
       "      <td>1</td>\n",
       "      <td>10</td>\n",
       "      <td>9</td>\n",
       "      <td>3</td>\n",
       "      <td>0</td>\n",
       "      <td>1</td>\n",
       "      <td>2</td>\n",
       "    </tr>\n",
       "    <tr>\n",
       "      <th>101765</th>\n",
       "      <td>2</td>\n",
       "      <td>1</td>\n",
       "      <td>75</td>\n",
       "      <td>1</td>\n",
       "      <td>1</td>\n",
       "      <td>7</td>\n",
       "      <td>6</td>\n",
       "      <td>13</td>\n",
       "      <td>3</td>\n",
       "      <td>3</td>\n",
       "      <td>...</td>\n",
       "      <td>0</td>\n",
       "      <td>0</td>\n",
       "      <td>6</td>\n",
       "      <td>6</td>\n",
       "      <td>12</td>\n",
       "      <td>9</td>\n",
       "      <td>1</td>\n",
       "      <td>1</td>\n",
       "      <td>0</td>\n",
       "      <td>2</td>\n",
       "    </tr>\n",
       "  </tbody>\n",
       "</table>\n",
       "<p>5 rows × 21 columns</p>\n",
       "</div>"
      ],
      "text/plain": [
       "        race  gender  age  admission_type_id  discharge_disposition_id  \\\n",
       "101761     0       1   75                  1                         3   \n",
       "101762     0       0   85                  1                         4   \n",
       "101763     2       1   75                  1                         1   \n",
       "101764     2       0   85                  2                         3   \n",
       "101765     2       1   75                  1                         1   \n",
       "\n",
       "        admission_source_id  time_in_hospital  num_lab_procedures  \\\n",
       "101761                    7                 3                  51   \n",
       "101762                    5                 5                  33   \n",
       "101763                    7                 1                  53   \n",
       "101764                    7                10                  45   \n",
       "101765                    7                 6                  13   \n",
       "\n",
       "        num_procedures  num_medications     ...      number_emergency  \\\n",
       "101761               0               16     ...                     0   \n",
       "101762               3               18     ...                     0   \n",
       "101763               0                9     ...                     0   \n",
       "101764               2               21     ...                     0   \n",
       "101765               3                3     ...                     0   \n",
       "\n",
       "        number_inpatient  diag_1  diag_2  diag_3  number_diagnoses  insulin  \\\n",
       "101761                 0       8      11       3                 9        0   \n",
       "101762                 1       6       8      12                 9        2   \n",
       "101763                 0       9       7      11                13        0   \n",
       "101764                 1      10       1      10                 9        3   \n",
       "101765                 0       6       6      12                 9        1   \n",
       "\n",
       "        change  diabetesMed  readmitted  \n",
       "101761       0            1           1  \n",
       "101762       1            1           2  \n",
       "101763       0            1           2  \n",
       "101764       0            1           2  \n",
       "101765       1            0           2  \n",
       "\n",
       "[5 rows x 21 columns]"
      ]
     },
     "execution_count": 19,
     "metadata": {},
     "output_type": "execute_result"
    }
   ],
   "source": [
    "finalDataset.tail(5) # Check the feature named \"age\" has converted into an integer."
   ]
  },
  {
   "cell_type": "code",
   "execution_count": 20,
   "metadata": {},
   "outputs": [
    {
     "data": {
      "text/plain": [
       "(98052, 21)"
      ]
     },
     "execution_count": 20,
     "metadata": {},
     "output_type": "execute_result"
    }
   ],
   "source": [
    "finalDataset.shape\n"
   ]
  },
  {
   "cell_type": "code",
   "execution_count": 22,
   "metadata": {},
   "outputs": [
    {
     "data": {
      "text/plain": [
       "<matplotlib.axes._subplots.AxesSubplot at 0x2d3c251ada0>"
      ]
     },
     "execution_count": 22,
     "metadata": {},
     "output_type": "execute_result"
    },
    {
     "data": {
      "image/png": "[encoded data removed]",
      "text/plain": [
       "<Figure size 432x288 with 1 Axes>"
      ]
     },
     "metadata": {},
     "output_type": "display_data"
    }
   ],
   "source": [
    "\n",
    "finalDataset.groupby('readmitted').mean().plot(kind='bar')"
   ]
  },
  {
   "cell_type": "code",
   "execution_count": 23,
   "metadata": {},
   "outputs": [
    {
     "name": "stdout",
     "output_type": "stream",
     "text": [
      "race                        int64\n",
      "gender                      int64\n",
      "age                         int64\n",
      "admission_type_id           int64\n",
      "discharge_disposition_id    int64\n",
      "admission_source_id         int64\n",
      "time_in_hospital            int64\n",
      "num_lab_procedures          int64\n",
      "num_procedures              int64\n",
      "num_medications             int64\n",
      "number_outpatient           int64\n",
      "number_emergency            int64\n",
      "number_inpatient            int64\n",
      "diag_1                      int64\n",
      "diag_2                      int64\n",
      "diag_3                      int64\n",
      "number_diagnoses            int64\n",
      "insulin                     int64\n",
      "change                      int64\n",
      "diabetesMed                 int64\n",
      "readmitted                  int64\n",
      "dtype: object\n"
     ]
    }
   ],
   "source": [
    "print(finalDataset.dtypes)"
   ]
  },
  {
   "cell_type": "code",
   "execution_count": 24,
   "metadata": {
    "collapsed": true
   },
   "outputs": [],
   "source": [
    "num_features = finalDataset.columns\n",
    "\n",
    "# Remove outliers by class\n",
    "for response in finalDataset.readmitted.unique(): # For each readmission response\n",
    "    response_df = finalDataset[finalDataset.readmitted==response] # For all samples that meet the readmission criteria\n",
    "    for column in response_df[num_features].columns: # Iterate through each feature of the sample\n",
    "        Q1 = response_df[column].quantile(0.25)\n",
    "        Q3 = response_df[column].quantile(0.75)\n",
    "        IQR = Q3-Q1\n",
    "        if IQR > 0: # And remove features that are outside of Q1 - 1.5IQR or Q3 + 1.5IQR\n",
    "            response_df = response_df[(response_df[column] > Q1-(1.5*IQR)) & (response_df[column] < Q3+(1.5*IQR))]\n",
    "            finalDataset = finalDataset.drop(finalDataset[finalDataset.readmitted==response].index, axis=0)\n",
    "            finalDataset = finalDataset.append(response_df)"
   ]
  },
  {
   "cell_type": "code",
   "execution_count": 25,
   "metadata": {},
   "outputs": [
    {
     "data": {
      "text/plain": [
       "(57480, 21)"
      ]
     },
     "execution_count": 25,
     "metadata": {},
     "output_type": "execute_result"
    }
   ],
   "source": [
    "finalDataset.shape"
   ]
  },
  {
   "cell_type": "code",
   "execution_count": 26,
   "metadata": {},
   "outputs": [
    {
     "data": {
      "text/plain": [
       "<matplotlib.axes._subplots.AxesSubplot at 0x2d3c25be828>"
      ]
     },
     "execution_count": 26,
     "metadata": {},
     "output_type": "execute_result"
    },
    {
     "data": {
      "image/png": "[encoded data removed]",
      "text/plain": [
       "<Figure size 432x288 with 1 Axes>"
      ]
     },
     "metadata": {},
     "output_type": "display_data"
    }
   ],
   "source": [
    "\n",
    "finalDataset.groupby('readmitted').mean().plot(kind='bar')"
   ]
  },
  {
   "cell_type": "markdown",
   "metadata": {},
   "source": [
    "To increase the performance of classifers, follwoing features are considered.\n",
    "age                           \n",
    "discharge_disposition_id       \n",
    "admission_source_id            \n",
    "time_in_hospital               \n",
    "num_lab_procedures             \n",
    "num_medications                \n",
    "diag_1                        \n",
    "diag_2                       \n",
    "diag_3                      \n",
    "number_diagnoses"
   ]
  },
  {
   "cell_type": "code",
   "execution_count": null,
   "metadata": {
    "collapsed": true
   },
   "outputs": [],
   "source": []
  }
 ],
 "metadata": {
  "kernelspec": {
   "display_name": "Python 3",
   "language": "python",
   "name": "python3"
  },
  "language_info": {
   "codemirror_mode": {
    "name": "ipython",
    "version": 3
   },
   "file_extension": ".py",
   "mimetype": "text/x-python",
   "name": "python",
   "nbconvert_exporter": "python",
   "pygments_lexer": "ipython3",
   "version": "3.6.3"
  }
 },
 "nbformat": 4,
 "nbformat_minor": 2
}
